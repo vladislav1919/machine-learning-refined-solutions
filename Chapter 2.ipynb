{
 "cells": [
  {
   "cell_type": "code",
   "execution_count": 2,
   "id": "7665592d-0124-42fb-b6a0-fc3b243e9662",
   "metadata": {},
   "outputs": [],
   "source": [
    "def g(w):\n",
    "    return sum()"
   ]
  },
  {
   "cell_type": "code",
   "execution_count": null,
   "id": "a5cb88aa-5d90-4211-8380-c2d1a5c14803",
   "metadata": {},
   "outputs": [],
   "source": []
  }
 ],
 "metadata": {
  "kernelspec": {
   "display_name": "Python 3 (ipykernel)",
   "language": "python",
   "name": "python3"
  },
  "language_info": {
   "codemirror_mode": {
    "name": "ipython",
    "version": 3
   },
   "file_extension": ".py",
   "mimetype": "text/x-python",
   "name": "python",
   "nbconvert_exporter": "python",
   "pygments_lexer": "ipython3",
   "version": "3.10.6"
  }
 },
 "nbformat": 4,
 "nbformat_minor": 5
}
