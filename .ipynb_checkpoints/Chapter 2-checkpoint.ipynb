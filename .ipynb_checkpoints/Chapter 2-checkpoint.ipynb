{
 "cells": [
  {
   "cell_type": "markdown",
   "id": "a6d7f244-5327-4c20-b661-b04570b5e6e9",
   "metadata": {},
   "source": [
    "# Exercises for chapter 2\n",
    "\n",
    "## Exercise 2.1\n",
    "\n",
    "First, define the function g(**w**) that we aim to minimize."
   ]
  },
  {
   "cell_type": "code",
   "execution_count": 15,
   "id": "7665592d-0124-42fb-b6a0-fc3b243e9662",
   "metadata": {},
   "outputs": [],
   "source": [
    "def g(w):\n",
    "    return sum(x*x for x in w)"
   ]
  },
  {
   "cell_type": "markdown",
   "id": "4d552527-75e7-4f8f-831a-25b3aa60a788",
   "metadata": {},
   "source": [
    "The exercise calls for sampling uniformly a unit hypercube 100 times. Since I don't know any other way of doing that when dimension N is greater than 2, I am just going to place all the sample points on the diagonal of the hypercube."
   ]
  },
  {
   "cell_type": "code",
   "execution_count": 23,
   "id": "bfd04838-94f9-40e1-923b-032fc510ba66",
   "metadata": {},
   "outputs": [],
   "source": [
    "from math import sqrt\n",
    "\n",
    "def minimize(cost, dimensions, P=100):\n",
    "    diagonal_length = 2*sqrt(dimensions)\n",
    "    step_length = diagonal_length / P\n",
    "    return min(g([step_length * k] * dimensions)\n",
    "               for k in range(0, P + 1))"
   ]
  }
 ],
 "metadata": {
  "kernelspec": {
   "display_name": "Python 3 (ipykernel)",
   "language": "python",
   "name": "python3"
  },
  "language_info": {
   "codemirror_mode": {
    "name": "ipython",
    "version": 3
   },
   "file_extension": ".py",
   "mimetype": "text/x-python",
   "name": "python",
   "nbconvert_exporter": "python",
   "pygments_lexer": "ipython3",
   "version": "3.10.6"
  }
 },
 "nbformat": 4,
 "nbformat_minor": 5
}
